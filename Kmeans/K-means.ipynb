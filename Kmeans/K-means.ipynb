{
 "cells": [
  {
   "cell_type": "markdown",
   "metadata": {},
   "source": [
    "# K-means"
   ]
  },
  {
   "cell_type": "code",
   "execution_count": 1,
   "metadata": {
    "ExecuteTime": {
     "end_time": "2018-04-21T07:24:10.002121Z",
     "start_time": "2018-04-21T07:24:08.841377Z"
    }
   },
   "outputs": [],
   "source": [
    "import numpy as np\n",
    "import matplotlib.pyplot as plt\n",
    "import sklearn.cluster\n",
    "%matplotlib inline\n",
    "\n",
    "import kmeans"
   ]
  },
  {
   "cell_type": "markdown",
   "metadata": {},
   "source": [
    "__Load data__"
   ]
  },
  {
   "cell_type": "code",
   "execution_count": 2,
   "metadata": {
    "ExecuteTime": {
     "end_time": "2018-04-21T07:24:10.011311Z",
     "start_time": "2018-04-21T07:24:10.004233Z"
    }
   },
   "outputs": [
    {
     "name": "stdout",
     "output_type": "stream",
     "text": [
      "Number of samples: 80, Dimension: 2\n"
     ]
    }
   ],
   "source": [
    "data = np.loadtxt('testSet.txt')\n",
    "print('Number of samples: {}, Dimension: {}'.format(data.shape[0], data.shape[1]))"
   ]
  },
  {
   "cell_type": "markdown",
   "metadata": {},
   "source": [
    "__Visualize data__"
   ]
  },
  {
   "cell_type": "code",
   "execution_count": 3,
   "metadata": {
    "ExecuteTime": {
     "end_time": "2018-04-21T07:24:10.208576Z",
     "start_time": "2018-04-21T07:24:10.014660Z"
    }
   },
   "outputs": [
    {
     "data": {
      "text/plain": [
       "<matplotlib.collections.PathCollection at 0x10a5ea9b0>"
      ]
     },
     "execution_count": 3,
     "metadata": {},
     "output_type": "execute_result"
    },
    {
     "data": {
      "image/png": "[encoded data removed]",
      "text/plain": [
       "<Figure size 432x288 with 1 Axes>"
      ]
     },
     "metadata": {},
     "output_type": "display_data"
    }
   ],
   "source": [
    "plt.scatter(data[:, 0], data[:, 1])"
   ]
  },
  {
   "cell_type": "markdown",
   "metadata": {},
   "source": [
    "## 实现"
   ]
  },
  {
   "cell_type": "markdown",
   "metadata": {},
   "source": [
    "### 原始实现"
   ]
  },
  {
   "cell_type": "markdown",
   "metadata": {},
   "source": [
    "__Cluster data__"
   ]
  },
  {
   "cell_type": "code",
   "execution_count": 13,
   "metadata": {
    "ExecuteTime": {
     "end_time": "2018-04-21T08:15:15.432413Z",
     "start_time": "2018-04-21T08:15:15.409767Z"
    }
   },
   "outputs": [
    {
     "name": "stdout",
     "output_type": "stream",
     "text": [
      "Iterations: 4\n"
     ]
    }
   ],
   "source": [
    "K = 4\n",
    "centroids, cluster, iterations = kmeans.Kmeans(data, K)\n",
    "print('Iterations: {}'.format(iterations))"
   ]
  },
  {
   "cell_type": "markdown",
   "metadata": {},
   "source": [
    "__Visualize result__"
   ]
  },
  {
   "cell_type": "code",
   "execution_count": 14,
   "metadata": {
    "ExecuteTime": {
     "end_time": "2018-04-21T08:15:17.363869Z",
     "start_time": "2018-04-21T08:15:17.174944Z"
    }
   },
   "outputs": [
    {
     "data": {
      "text/plain": [
       "<matplotlib.collections.PathCollection at 0x10ae589b0>"
      ]
     },
     "execution_count": 14,
     "metadata": {},
     "output_type": "execute_result"
    },
    {
     "data": {
      "image/png": "[encoded data removed]",
      "text/plain": [
       "<Figure size 432x288 with 1 Axes>"
      ]
     },
     "metadata": {},
     "output_type": "display_data"
    }
   ],
   "source": [
    "plt.scatter(centroids[:, 0], centroids[:, 1], s=250, c='r', marker='+')\n",
    "plt.scatter(data[cluster==0, 0], data[cluster==0, 1], marker='o')\n",
    "plt.scatter(data[cluster==1, 0], data[cluster==1, 1], marker='v')\n",
    "plt.scatter(data[cluster==2, 0], data[cluster==2, 1], marker='^')\n",
    "plt.scatter(data[cluster==3, 0], data[cluster==3, 1], marker='<')"
   ]
  },
  {
   "cell_type": "markdown",
   "metadata": {},
   "source": [
    "### Scikit-learn实现"
   ]
  },
  {
   "cell_type": "markdown",
   "metadata": {},
   "source": [
    "__Cluster data__"
   ]
  },
  {
   "cell_type": "code",
   "execution_count": 6,
   "metadata": {
    "ExecuteTime": {
     "end_time": "2018-04-21T07:24:10.453405Z",
     "start_time": "2018-04-21T07:24:10.421123Z"
    }
   },
   "outputs": [
    {
     "data": {
      "text/plain": [
       "KMeans(algorithm='auto', copy_x=True, init='k-means++', max_iter=300,\n",
       "    n_clusters=4, n_init=10, n_jobs=1, precompute_distances='auto',\n",
       "    random_state=None, tol=0.0001, verbose=0)"
      ]
     },
     "execution_count": 6,
     "metadata": {},
     "output_type": "execute_result"
    }
   ],
   "source": [
    "K = 4\n",
    "k_means = sklearn.cluster.KMeans(n_clusters=K)\n",
    "k_means.fit(data)"
   ]
  },
  {
   "cell_type": "markdown",
   "metadata": {},
   "source": [
    "__Visualize result__"
   ]
  },
  {
   "cell_type": "code",
   "execution_count": 7,
   "metadata": {
    "ExecuteTime": {
     "end_time": "2018-04-21T07:24:10.660425Z",
     "start_time": "2018-04-21T07:24:10.455499Z"
    }
   },
   "outputs": [
    {
     "data": {
      "text/plain": [
       "<matplotlib.collections.PathCollection at 0x10a6f55c0>"
      ]
     },
     "execution_count": 7,
     "metadata": {},
     "output_type": "execute_result"
    },
    {
     "data": {
      "image/png": "[encoded data removed]",
      "text/plain": [
       "<Figure size 432x288 with 1 Axes>"
      ]
     },
     "metadata": {},
     "output_type": "display_data"
    }
   ],
   "source": [
    "centroids = k_means.cluster_centers_\n",
    "cluster = k_means.labels_\n",
    "plt.scatter(centroids[:, 0], centroids[:, 1], s=250, c='r', marker='+')\n",
    "plt.scatter(data[cluster==0, 0], data[cluster==0, 1], marker='o')\n",
    "plt.scatter(data[cluster==1, 0], data[cluster==1, 1], marker='v')\n",
    "plt.scatter(data[cluster==2, 0], data[cluster==2, 1], marker='^')\n",
    "plt.scatter(data[cluster==3, 0], data[cluster==3, 1], marker='<')"
   ]
  },
  {
   "cell_type": "markdown",
   "metadata": {},
   "source": [
    "## K的选择"
   ]
  },
  {
   "cell_type": "code",
   "execution_count": 8,
   "metadata": {
    "ExecuteTime": {
     "end_time": "2018-04-21T07:24:10.668848Z",
     "start_time": "2018-04-21T07:24:10.662858Z"
    }
   },
   "outputs": [],
   "source": [
    "import gap"
   ]
  },
  {
   "cell_type": "markdown",
   "metadata": {},
   "source": [
    "### 手肘法"
   ]
  },
  {
   "cell_type": "markdown",
   "metadata": {},
   "source": [
    "#### 原始Kmeans算法"
   ]
  },
  {
   "cell_type": "code",
   "execution_count": 17,
   "metadata": {
    "ExecuteTime": {
     "end_time": "2018-04-21T08:40:30.780694Z",
     "start_time": "2018-04-21T08:40:30.406278Z"
    }
   },
   "outputs": [
    {
     "name": "stdout",
     "output_type": "stream",
     "text": [
      "[1465.58002348  792.91685654  463.64968092  149.95430468  134.4631444\n",
      "  125.50155592  112.80725193   93.66518239   98.69209999]\n"
     ]
    },
    {
     "data": {
      "text/plain": [
       "Text(0,0.5,'Wk')"
      ]
     },
     "execution_count": 17,
     "metadata": {},
     "output_type": "execute_result"
    },
    {
     "data": {
      "image/png": "[encoded data removed]",
      "text/plain": [
       "<Figure size 432x288 with 1 Axes>"
      ]
     },
     "metadata": {},
     "output_type": "display_data"
    }
   ],
   "source": [
    "max_K = 10\n",
    "K_range = np.arange(1, max_K, dtype=int)\n",
    "wks = np.zeros(len(K_range))\n",
    "for i, K in enumerate(K_range):\n",
    "    centroids, cluster, iterations = kmeans.Kmeans(data, K)\n",
    "    wks[i] = gap.calculate_Wk(data, centroids, cluster)\n",
    "print(wks)\n",
    "\n",
    "plt.plot(K_range, wks, 'o-')\n",
    "plt.xlabel('K')\n",
    "plt.ylabel('Wk')"
   ]
  },
  {
   "cell_type": "markdown",
   "metadata": {},
   "source": [
    "#### Scikit-lean实现的Kmeans算法"
   ]
  },
  {
   "cell_type": "code",
   "execution_count": 16,
   "metadata": {
    "ExecuteTime": {
     "end_time": "2018-04-21T08:26:25.804698Z",
     "start_time": "2018-04-21T08:26:25.395430Z"
    }
   },
   "outputs": [
    {
     "name": "stdout",
     "output_type": "stream",
     "text": [
      "[1465.58002348  792.91685654  405.13810196  149.95430468  123.99203711\n",
      "  110.14571036   92.39469368   84.81694542   72.38360403]\n"
     ]
    },
    {
     "data": {
      "text/plain": [
       "Text(0,0.5,'Wk')"
      ]
     },
     "execution_count": 16,
     "metadata": {},
     "output_type": "execute_result"
    },
    {
     "data": {
      "image/png": "[encoded data removed]",
      "text/plain": [
       "<Figure size 432x288 with 1 Axes>"
      ]
     },
     "metadata": {},
     "output_type": "display_data"
    }
   ],
   "source": [
    "max_K = 10\n",
    "K_range = np.arange(1, max_K, dtype=int)\n",
    "wks = np.zeros(len(K_range))\n",
    "for i, K in enumerate(K_range):\n",
    "    k_means = sklearn.cluster.KMeans(n_clusters=K)\n",
    "    k_means.fit(data)\n",
    "    centroids = k_means.cluster_centers_\n",
    "    cluster = k_means.labels_\n",
    "    wks[i] = gap.calculate_Wk(data, centroids, cluster)\n",
    "print(wks)\n",
    "\n",
    "plt.plot(K_range, wks, 'o-')\n",
    "plt.xlabel('K')\n",
    "plt.ylabel('Wk')"
   ]
  },
  {
   "cell_type": "markdown",
   "metadata": {},
   "source": [
    "### Gap Statistic"
   ]
  },
  {
   "cell_type": "markdown",
   "metadata": {},
   "source": [
    "#### 原始Kmeans算法"
   ]
  },
  {
   "cell_type": "code",
   "execution_count": 11,
   "metadata": {
    "ExecuteTime": {
     "end_time": "2018-04-21T07:24:14.255724Z",
     "start_time": "2018-04-21T07:24:11.491031Z"
    }
   },
   "outputs": [
    {
     "name": "stdout",
     "output_type": "stream",
     "text": [
      "Select K: 4\n",
      "Gaps Diff: [ 0.05778518  0.10366695 -0.7057111   0.23133357  0.08811658  0.38063123\n",
      " -0.07232227  0.18780347]\n"
     ]
    },
    {
     "data": {
      "text/plain": [
       "<BarContainer object of 8 artists>"
      ]
     },
     "execution_count": 11,
     "metadata": {},
     "output_type": "execute_result"
    },
    {
     "data": {
      "image/png": "[encoded data removed]",
      "text/plain": [
       "<Figure size 432x288 with 1 Axes>"
      ]
     },
     "metadata": {},
     "output_type": "display_data"
    },
    {
     "data": {
      "image/png": "[encoded data removed]",
      "text/plain": [
       "<Figure size 432x288 with 1 Axes>"
      ]
     },
     "metadata": {},
     "output_type": "display_data"
    },
    {
     "data": {
      "image/png": "[encoded data removed]",
      "text/plain": [
       "<Figure size 432x288 with 1 Axes>"
      ]
     },
     "metadata": {},
     "output_type": "display_data"
    }
   ],
   "source": [
    "max_K = 10\n",
    "B = 10\n",
    "K_range = np.arange(1, max_K, dtype=int)\n",
    "gaps, stds, log_wks = gap.gap_statistic(data, max_K, B, kmeans.Kmeans)\n",
    "\n",
    "num_gaps = len(gaps) - 1\n",
    "gaps_diff = np.zeros(num_gaps)\n",
    "for i in range(num_gaps):\n",
    "    gaps_diff[i] = gaps[i] - (gaps[i+1] - stds[i+1])\n",
    "\n",
    "select_K = K_range[np.argmax(gaps)]\n",
    "print('Select K: {}'.format(select_K))\n",
    "print('Gaps Diff: {}'.format(gaps_diff))\n",
    "\n",
    "plt.plot(K_range, gaps, 'o-')\n",
    "plt.xlabel('K')\n",
    "plt.ylabel('Gap')\n",
    "\n",
    "plt.figure()\n",
    "plt.plot(K_range, log_wks, 'o-')\n",
    "plt.xlabel('K')\n",
    "plt.ylabel('Log(Wk)')\n",
    "\n",
    "plt.figure()\n",
    "plt.xlabel('K')\n",
    "plt.ylabel('Gap(k) - (Gap(k+1) - s(k+1))')\n",
    "plt.bar(K_range[:num_gaps], gaps_diff)"
   ]
  },
  {
   "cell_type": "markdown",
   "metadata": {},
   "source": [
    "#### Scikit-lean实现的Kmeans算法"
   ]
  },
  {
   "cell_type": "code",
   "execution_count": 12,
   "metadata": {
    "ExecuteTime": {
     "end_time": "2018-04-21T07:24:17.062562Z",
     "start_time": "2018-04-21T07:24:14.258072Z"
    }
   },
   "outputs": [
    {
     "name": "stdout",
     "output_type": "stream",
     "text": [
      "Select K: 4\n",
      "Gaps Diff: [ 0.02476904 -0.07249637 -0.5252799   0.10438411  0.1672094   0.08252028\n",
      "  0.08921042  0.02291316]\n"
     ]
    },
    {
     "data": {
      "text/plain": [
       "<BarContainer object of 8 artists>"
      ]
     },
     "execution_count": 12,
     "metadata": {},
     "output_type": "execute_result"
    },
    {
     "data": {
      "image/png": "[encoded data removed]",
      "text/plain": [
       "<Figure size 432x288 with 1 Axes>"
      ]
     },
     "metadata": {},
     "output_type": "display_data"
    },
    {
     "data": {
      "image/png": "[encoded data removed]",
      "text/plain": [
       "<Figure size 432x288 with 1 Axes>"
      ]
     },
     "metadata": {},
     "output_type": "display_data"
    },
    {
     "data": {
      "image/png": "[encoded data removed]",
      "text/plain": [
       "<Figure size 432x288 with 1 Axes>"
      ]
     },
     "metadata": {},
     "output_type": "display_data"
    }
   ],
   "source": [
    "def sklearn_kmeans_wrapper(data, K):\n",
    "    k_means = sklearn.cluster.KMeans(n_clusters=K)\n",
    "    k_means.fit(data)\n",
    "    return k_means.cluster_centers_, k_means.labels_, None\n",
    "\n",
    "max_K = 10\n",
    "B = 10\n",
    "K_range = np.arange(1, max_K, dtype=int)\n",
    "gaps, stds, log_wks = gap.gap_statistic(data, max_K, B, sklearn_kmeans_wrapper)\n",
    "\n",
    "num_gaps = len(gaps) - 1\n",
    "gaps_diff = np.zeros(num_gaps)\n",
    "for i in range(num_gaps):\n",
    "    gaps_diff[i] = gaps[i] - (gaps[i+1] - stds[i+1])\n",
    "\n",
    "select_K = K_range[np.argmax(gaps)]\n",
    "print('Select K: {}'.format(select_K))\n",
    "print('Gaps Diff: {}'.format(gaps_diff))\n",
    "\n",
    "plt.plot(K_range, gaps, 'o-')\n",
    "plt.xlabel('K')\n",
    "plt.ylabel('Gap')\n",
    "\n",
    "plt.figure()\n",
    "plt.plot(K_range, log_wks, 'o-')\n",
    "plt.xlabel('K')\n",
    "plt.ylabel('Log(Wk)')\n",
    "\n",
    "plt.figure()\n",
    "plt.xlabel('K')\n",
    "plt.ylabel('Gap(k) - (Gap(k+1) - s(k+1))')\n",
    "plt.bar(K_range[:num_gaps], gaps_diff)"
   ]
  }
 ],
 "metadata": {
  "kernelspec": {
   "display_name": "Python 3",
   "language": "python",
   "name": "python3"
  },
  "language_info": {
   "codemirror_mode": {
    "name": "ipython",
    "version": 3
   },
   "file_extension": ".py",
   "mimetype": "text/x-python",
   "name": "python",
   "nbconvert_exporter": "python",
   "pygments_lexer": "ipython3",
   "version": "3.6.5"
  },
  "toc": {
   "nav_menu": {
    "height": "329px",
    "width": "305px"
   },
   "number_sections": true,
   "sideBar": true,
   "skip_h1_title": false,
   "title_cell": "Table of Contents",
   "title_sidebar": "Contents",
   "toc_cell": false,
   "toc_position": {},
   "toc_section_display": true,
   "toc_window_display": false
  }
 },
 "nbformat": 4,
 "nbformat_minor": 2
}
